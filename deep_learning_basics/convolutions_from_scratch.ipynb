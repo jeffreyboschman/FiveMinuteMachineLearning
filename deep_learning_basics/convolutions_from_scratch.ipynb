{
  "nbformat": 4,
  "nbformat_minor": 0,
  "metadata": {
    "colab": {
      "name": "convolutions_from_scratch.ipynb",
      "provenance": [],
      "authorship_tag": "ABX9TyNyMeKAvn6DFjHud0z0srdU",
      "include_colab_link": true
    },
    "kernelspec": {
      "name": "python3",
      "display_name": "Python 3"
    },
    "language_info": {
      "name": "python"
    }
  },
  "cells": [
    {
      "cell_type": "markdown",
      "metadata": {
        "id": "view-in-github",
        "colab_type": "text"
      },
      "source": [
        "<a href=\"https://colab.research.google.com/github/jeffreyboschman/FiveMinuteMachineLearning/blob/main/deep_learning_basics/convolutions_from_scratch.ipynb\" target=\"_parent\"><img src=\"https://colab.research.google.com/assets/colab-badge.svg\" alt=\"Open In Colab\"/></a>"
      ]
    },
    {
      "cell_type": "code",
      "execution_count": 17,
      "metadata": {
        "id": "urzFBnUxANB4"
      },
      "outputs": [],
      "source": [
        "import numpy as np\n",
        "import torch"
      ]
    },
    {
      "cell_type": "code",
      "source": [
        "class convolution_2d_basic():\n",
        "    def __init__(self, kernel_size, in_channels, out_channels, use_bias = True):\n",
        "        self.kernel_size = kernel_size #e.g., 3x3\n",
        "        self.in_channels = in_channels #e.g., 10\n",
        "        self.out_channels = out_channels #e.g., 20\n",
        "\n",
        "        self.filters = np.random.rand(out_channels, in_channels, kernel_size, kernel_size) #shape (C_out, C_in, k, k)\n",
        "        if use_bias:\n",
        "            self.bias =  np.random.rand(out_channels)\n",
        "\n",
        "    def forward(input, output):\n",
        "        '''\n",
        "        Applies a 2d convolution on a set of input activations (e.g., an image) to get a set of output activations \n",
        "\n",
        "        input:  activations with shape (N, C_in, H_in, W_in)\n",
        "        output: activations with shape (N, C_out, H_out, W_out)\n",
        "\n",
        "        where N is batch size, C_in is the number of channels in the input, H_in is height of input (in pixels), W_in is width of input (in pixels),\n",
        "                            C_out is the number of channels in the output, H_out is height of output (in pixels), W_out is width of output (in pixels)\n",
        "        '''\n",
        "        if len(input.shape) == 3:\n",
        "            input = np.expand_dims(input, axis = 0)\n",
        "        batch_size = input.shape[0]\n",
        "\n",
        "        output = np.zeroes()\n",
        "        pass\n"
      ],
      "metadata": {
        "id": "WoeGZu4qAO92"
      },
      "execution_count": 12,
      "outputs": []
    },
    {
      "cell_type": "code",
      "source": [
        "conv_test = convolution_2d_basic(3, 2, 2)\n",
        "print(conv_test.filters)"
      ],
      "metadata": {
        "colab": {
          "base_uri": "https://localhost:8080/"
        },
        "id": "d3aai47BCMeV",
        "outputId": "519a408c-cda8-44d2-96e8-a0231c0b9675"
      },
      "execution_count": 13,
      "outputs": [
        {
          "output_type": "stream",
          "name": "stdout",
          "text": [
            "[[[[0.561995   0.32681736 0.31022981]\n",
            "   [0.22316832 0.31004083 0.37713426]\n",
            "   [0.69949801 0.98897152 0.66373095]]\n",
            "\n",
            "  [[0.50072492 0.51066451 0.71114483]\n",
            "   [0.80999886 0.32266737 0.96974562]\n",
            "   [0.11506431 0.48001288 0.96579405]]]\n",
            "\n",
            "\n",
            " [[[0.84262467 0.93084265 0.4474039 ]\n",
            "   [0.84596426 0.71147594 0.47589435]\n",
            "   [0.3564091  0.38941712 0.3972618 ]]\n",
            "\n",
            "  [[0.56112824 0.79418605 0.76637691]\n",
            "   [0.81511493 0.49033266 0.95786346]\n",
            "   [0.44465248 0.69935138 0.03949969]]]]\n"
          ]
        }
      ]
    },
    {
      "cell_type": "code",
      "source": [
        "input = np.random.rand(1, 2, 5, 5)\n",
        "input = torch.tensor(input)\n",
        "len(input.shape)"
      ],
      "metadata": {
        "colab": {
          "base_uri": "https://localhost:8080/"
        },
        "id": "kO9xLeGWCVF6",
        "outputId": "cffcbcc3-f015-43f1-9b00-462519a98c7c"
      },
      "execution_count": 28,
      "outputs": [
        {
          "output_type": "execute_result",
          "data": {
            "text/plain": [
              "4"
            ]
          },
          "metadata": {},
          "execution_count": 28
        }
      ]
    },
    {
      "cell_type": "code",
      "source": [
        ""
      ],
      "metadata": {
        "id": "haLsOGHYHArO"
      },
      "execution_count": null,
      "outputs": []
    }
  ]
}