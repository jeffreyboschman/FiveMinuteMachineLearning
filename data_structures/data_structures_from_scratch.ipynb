{
  "nbformat": 4,
  "nbformat_minor": 0,
  "metadata": {
    "colab": {
      "name": "data_structures_from_scratch.ipynb",
      "provenance": [],
      "collapsed_sections": [],
      "authorship_tag": "ABX9TyNjWFJrUgQhOVt8G/F0yDWy",
      "include_colab_link": true
    },
    "kernelspec": {
      "name": "python3",
      "display_name": "Python 3"
    },
    "language_info": {
      "name": "python"
    }
  },
  "cells": [
    {
      "cell_type": "markdown",
      "metadata": {
        "id": "view-in-github",
        "colab_type": "text"
      },
      "source": [
        "<a href=\"https://colab.research.google.com/github/jeffreyboschman/FiveMinuteMachineLearning/blob/main/data_structures/data_structures_from_scratch.ipynb\" target=\"_parent\"><img src=\"https://colab.research.google.com/assets/colab-badge.svg\" alt=\"Open In Colab\"/></a>"
      ]
    },
    {
      "cell_type": "markdown",
      "source": [
        "# Array"
      ],
      "metadata": {
        "id": "hzZHE0NBuy-j"
      }
    },
    {
      "cell_type": "code",
      "source": [
        ""
      ],
      "metadata": {
        "id": "HS4nkbl6FA7Q"
      },
      "execution_count": null,
      "outputs": []
    },
    {
      "cell_type": "markdown",
      "source": [
        "Use NumPy for arrays. "
      ],
      "metadata": {
        "id": "I7RILqbpu5zr"
      }
    },
    {
      "cell_type": "markdown",
      "source": [
        "# Linked List\n",
        "\n",
        "https://realpython.com/linked-lists-python/"
      ],
      "metadata": {
        "id": "R4og2eUWuzE9"
      }
    },
    {
      "cell_type": "code",
      "execution_count": null,
      "metadata": {
        "id": "m3PSwRtDt8Qu"
      },
      "outputs": [],
      "source": [
        "class Node():\n",
        "    def __init__(self, data):\n",
        "        self.data = data\n",
        "        self.next = None\n",
        "    \n",
        "    def __repr__(self, data):\n",
        "        return self.data\n",
        "\n",
        "\n",
        "class LinkedList():\n",
        "    def __init__(self, nodes=None):\n",
        "        self.head = None\n",
        "        if nodes is not None: #allows you to create a LinkedList frm a list object\n",
        "            node = Node(data=nodes.pop(0)) #sets head node to be the first data of a list object\n",
        "            self.head = node\n",
        "            for elem in nodes:\n",
        "                node.next = Node(data=elem)\n",
        "                node = node.next\n",
        "\n",
        "    def __repr__(self):\n",
        "        '''Shows a string representation of the LinkedList elements connected by \"->\", starting with the head node and ending with None.\n",
        "        Call by just calling the class instance (print also works, but is not necessary)\n",
        "        '''\n",
        "        node = self.head\n",
        "        nodes = []\n",
        "        while node is not None:\n",
        "            nodes.append(node.data)\n",
        "            node = node.next\n",
        "        nodes.append(\"None\")\n",
        "        return \" -> \".join(nodes)\n",
        "    \n",
        "    def __iter__(self):\n",
        "        '''Traverses/iterates through the LinkedList, starting with the head node and ending with the node that has a node.next value of None\n",
        "        '''\n",
        "        node = self.head\n",
        "        while node is not None:\n",
        "            yield node\n",
        "            node = node.next\n",
        "\n",
        "    def add_first(self, node):\n",
        "        '''Adds new node to beginning of LinkedList (in front of original head node)\n",
        "\n",
        "        time complexity: constant (O(1)) \n",
        "        '''\n",
        "        node.next = self.head\n",
        "        self.head = node\n",
        "\n",
        "    def add_last(self, node):\n",
        "        '''Adds new node to end of LinkedList (before None)\n",
        "\n",
        "        time complexity: linear (O(n)) \n",
        "        '''\n",
        "        #if empty LinkedList instance, just set the head node to the new node\n",
        "        if self.head == None:\n",
        "            self.head = node\n",
        "            return\n",
        "\n",
        "        #iterate through the LinkedList instance until the for loop raises a StopIteration exception ()\n",
        "        for current_node in self: \n",
        "            pass\n",
        "        current_node.next = node\n",
        "\n",
        "\n",
        "\n",
        "    def insert_after(self, target_node_data, new_node):\n",
        "        if self.head == None:\n",
        "            raise Exception(\"List is empty\")\n",
        "\n",
        "        for current_node in self:\n",
        "            if current_node.data == target_node_data:\n",
        "                new_node.next = current_node.next\n",
        "                current_node.next = new_node\n",
        "                return\n",
        "\n",
        "        raise Exception(f\"Node with data {target_node_data} not found\")\n",
        "\n",
        "    def insert_before(self, target_node_data, new_node):\n",
        "        if self.head == None:\n",
        "            print(f\"LinkedList is empty! Cannot find {target_node_data}.\")\n",
        "            return\n",
        "\n",
        "        if self.head.data == target_node_data:\n",
        "            self.add_first(new_node)\n",
        "            return\n",
        "\n",
        "        # for current_node in self:\n",
        "        #     if current_node.next.data == target_node_data:\n",
        "        #         new_node.next = current_node.next\n",
        "        #         current_node.next = new_node\n",
        "        #         return\n",
        "\n",
        "        prev_node = self.head\n",
        "        for node in self:\n",
        "            if node.data == target_node_data:\n",
        "                prev_node.next = new_node\n",
        "                new_node.next = node\n",
        "                return\n",
        "            prev_node = node\n",
        "\n",
        "        raise Exception(f\"Node with data {target_node_data} not found\")\n",
        "\n",
        "    def remove_node(self, target_node_data):\n",
        "        if self.head == None:\n",
        "            print(f\"LinkedList is empty! Cannot find {target_node_data}.\")\n",
        "            return\n",
        "        \n",
        "        if self.head.data == target_node_data:\n",
        "            self.head = self.head.next\n",
        "            return\n",
        "\n",
        "        prev_node = self.head\n",
        "        for current_node in self:\n",
        "            if current_node.data == target_node_data:\n",
        "                prev_node.next = current_node.next\n",
        "                return\n",
        "            prev_node = current_node\n",
        "\n",
        "        raise Exception(f\"Node with data {target_node_data} not found\")\n",
        "\n",
        "    def get(self, idx):\n",
        "        for i, current_node in enumerate(self):\n",
        "            if i == idx:\n",
        "                print(current_node.data)\n",
        "                return\n",
        "            \n",
        "        raise Exception(f\"The LinkedList is only {i + 1} elements long (also remember it is zero-indexed).\")\n",
        "    \n",
        "    def reverse(self):\n",
        "      \n",
        "        if self.head == None:\n",
        "            print(f\"LinkedList is empty!\")\n",
        "            return\n",
        "\n",
        "        stack = []\n",
        "        #iterate through the LinkedList instance until the for loop raises a StopIteration exception ()\n",
        "        for current_node in self: \n",
        "            stack.append(current_node.data)\n",
        "            self.remove_node(current_node.data)\n",
        "\n",
        "        self.head = Node(stack.pop())\n",
        "        current_node = self.head\n",
        "\n",
        "        while stack:\n",
        "            current_node.next = Node(stack.pop())\n",
        "            current_node = current_node.next\n",
        "\n",
        "# class CircularLinkedList(LinkedList):\n",
        "#     def __init__(self, nodes=None):\n",
        "#         super().__init__(nodes)\n",
        "    \n",
        "#     def traverse(self, starting_point=None):\n",
        "#         '''Traverses/iterates through the CircularLinkedList, starting with the starting point and ending with the node before the starting point.\n",
        "#         '''\n",
        "#         if starting_point is None:\n",
        "#             starting_point = self.head\n",
        "#         node = starting_point\n",
        "#         while node is not None and node.next != starting_point:\n",
        "#             yield node\n",
        "#             node = node.next\n",
        "#         yield node\n",
        "\n",
        "#     def print_list(self, starting_point=None):\n",
        "#         '''Shows a string representation of the CircularLinkedList elements connected by \"->\", starting with the starting point and ending with the node before the starting point.\n",
        "#         Call by just calling the class instance (print also works, but is not necessary)\n",
        "#         '''\n",
        "#         nodes = []\n",
        "#         for node in self.traverse(starting_point):\n",
        "#             nodes.append(str(node))\n",
        "#         return \" -> \".join(nodes)\n",
        "    \n",
        "    "
      ]
    },
    {
      "cell_type": "code",
      "source": [
        "llist = LinkedList([\"a\", \"b\", \"c\", \"d\", \"e\"])\n",
        "llist.add_first(Node(\"z\"))\n",
        "llist.add_last(Node(\"f\"))\n",
        "llist.insert_before(\"z\", Node(\"b2\"))\n",
        "llist.remove_node(\"b2\")\n",
        "llist.reverse()\n",
        "llist"
      ],
      "metadata": {
        "colab": {
          "base_uri": "https://localhost:8080/"
        },
        "id": "eZ1oImwmH7Jc",
        "outputId": "84b48a33-509a-4e74-bd58-f0147dd6b391"
      },
      "execution_count": null,
      "outputs": [
        {
          "output_type": "execute_result",
          "data": {
            "text/plain": [
              "f -> e -> d -> c -> b -> a -> z -> None"
            ]
          },
          "metadata": {},
          "execution_count": 11
        }
      ]
    },
    {
      "cell_type": "code",
      "source": [
        "llist = LinkedList()\n",
        "\n",
        "first_node = Node(\"a\")\n",
        "second_node = Node(\"b\")\n",
        "third_node = Node(\"c\")\n",
        "\n",
        "llist.head = first_node\n",
        "first_node.next = second_node\n",
        "second_node.next = third_node\n",
        "\n",
        "llist"
      ],
      "metadata": {
        "colab": {
          "base_uri": "https://localhost:8080/"
        },
        "id": "nPbLuetqH3_M",
        "outputId": "375249d8-a873-41e4-9d7d-5544b26ce8f9"
      },
      "execution_count": null,
      "outputs": [
        {
          "output_type": "execute_result",
          "data": {
            "text/plain": [
              "a -> b -> c -> None"
            ]
          },
          "metadata": {},
          "execution_count": 12
        }
      ]
    },
    {
      "cell_type": "code",
      "source": [
        "# cllist = CircularLinkedList([\"a\", \"b\", \"c\", \"d\", \"e\"])\n",
        "# cllist.print_list(Node(\"b\"))"
      ],
      "metadata": {
        "id": "wGLriG2zegqu"
      },
      "execution_count": null,
      "outputs": []
    },
    {
      "cell_type": "code",
      "source": [
        ""
      ],
      "metadata": {
        "id": "GH3FtWF0kGiE"
      },
      "execution_count": null,
      "outputs": []
    },
    {
      "cell_type": "markdown",
      "source": [
        "# Stack\n",
        "\n",
        "Last in, first out \n",
        "\n",
        "From a singly linked list: https://www.geeksforgeeks.org/implement-a-stack-using-singly-linked-list/"
      ],
      "metadata": {
        "id": "GB2RcX1Z9Dyk"
      }
    },
    {
      "cell_type": "code",
      "source": [
        "class Node:\n",
        "    def __init__(self, data):\n",
        "        self.data = data\n",
        "        self.next = None\n",
        "\n",
        "class Stack:\n",
        "    def __init__(self, nodes=None):\n",
        "        self.head = Node(\"head\") #self.head sits right above the stack like a cloud\n",
        "        self.size = 0\n",
        "        \n",
        "        if nodes is not None:\n",
        "            for node in nodes:\n",
        "                self.push(node)\n",
        "\n",
        "    def get_size(self):\n",
        "        '''Get the current size of the stack'''\n",
        "        return self.size\n",
        "\n",
        "    def is_empty(self):\n",
        "        '''Check if the stack is empty'''\n",
        "        return self.size == 0\n",
        "\n",
        "    def peek(self):\n",
        "        '''Look at the top item of the stack'''\n",
        "        if self.is_empty():\n",
        "            raise Exception(\"stack is empty\")\n",
        "        return self.head.next.data\n",
        "\n",
        "    def push(self, data):\n",
        "        '''Push an item to the top of the stack'''\n",
        "        node = Node(str(data))\n",
        "        node.next = self.head.next\n",
        "        self.head.next = node\n",
        "        self.size += 1\n",
        "\n",
        "    def pop(self):\n",
        "        '''Remove an item from the top of the stack and return'''\n",
        "        if self.is_empty():\n",
        "            print(self.is_empty)\n",
        "            raise Exception(\"stack is empty\")\n",
        "        popped_node = self.head.next\n",
        "        self.head.next = self.head.next.next\n",
        "        self.size -= 1\n",
        "        return popped_node.data\n",
        "    \n",
        "    def __str__(self):\n",
        "        '''String representation of the stack'''\n",
        "        cur = self.head.next\n",
        "        out = \"Top: \"\n",
        "        while cur:\n",
        "            out += str(cur.data) + \"->\"\n",
        "            cur = cur.next\n",
        "        return out[:-2]"
      ],
      "metadata": {
        "id": "5FmWvJPA9FbY"
      },
      "execution_count": null,
      "outputs": []
    },
    {
      "cell_type": "code",
      "source": [
        "stack = Stack([1,2,3,2])\n",
        "for i in range(1, 11):\n",
        "    print(i)\n",
        "    stack.push(i)\n",
        "print(f\"Stack: {stack}\")\n",
        "print(stack.size)\n",
        "  \n",
        "for _ in range(1, 6):\n",
        "    remove = stack.pop()\n",
        "    print(f\"Pop: {remove}\")\n",
        "print(f\"Stack: {stack}\")"
      ],
      "metadata": {
        "colab": {
          "base_uri": "https://localhost:8080/"
        },
        "id": "gIF4a7L89GEO",
        "outputId": "e409bbce-a60d-48ff-b148-a04add29f275"
      },
      "execution_count": null,
      "outputs": [
        {
          "output_type": "stream",
          "name": "stdout",
          "text": [
            "1\n",
            "2\n",
            "3\n",
            "4\n",
            "5\n",
            "6\n",
            "7\n",
            "8\n",
            "9\n",
            "10\n",
            "Stack: Top: 10->9->8->7->6->5->4->3->2->1->2->3->2->1\n",
            "14\n",
            "Pop: 10\n",
            "Pop: 9\n",
            "Pop: 8\n",
            "Pop: 7\n",
            "Pop: 6\n",
            "Stack: Top: 5->4->3->2->1->2->3->2->1\n"
          ]
        }
      ]
    },
    {
      "cell_type": "code",
      "source": [
        ""
      ],
      "metadata": {
        "id": "mfd4vXySKY5h"
      },
      "execution_count": null,
      "outputs": []
    },
    {
      "cell_type": "markdown",
      "source": [
        "# Queue\n",
        "\n",
        "First in, first out\n",
        "\n",
        "Has functions enqueue (append to end), dequeue (pop from front), front (sees the item at front), rear (sees the item at end), __str__ (prints the whole queue)"
      ],
      "metadata": {
        "id": "vaXP6LoUXEG7"
      }
    },
    {
      "cell_type": "code",
      "source": [
        "class Node:\n",
        "    def __init__(self, data):\n",
        "        self.data = data\n",
        "        self.next = None\n",
        "\n",
        "class Queue:\n",
        "    def __init__(self, nodes=None):\n",
        "        self.head = None\n",
        "        self.last = None\n",
        "        self.size = 0\n",
        "\n",
        "        if nodes is not None: #allows you to create a Queue from a list object\n",
        "            for node in nodes:\n",
        "                self.enqueue(node)\n",
        "\n",
        "    def get_size(self):\n",
        "        '''Get the current size of the queue'''\n",
        "        return self.size\n",
        "\n",
        "    def is_empty(self):\n",
        "        '''Check if the queue is empty'''\n",
        "        return self.size == 0\n",
        "    \n",
        "    def peek_front(self):\n",
        "        '''Look at the front item of the queue'''\n",
        "        if self.is_empty():\n",
        "            raise Exception(\"The queue is empty\")\n",
        "        return self.head.data\n",
        "\n",
        "    def peek_rear(self):\n",
        "        '''Look at the last item of the queue'''\n",
        "        if self.is_empty():\n",
        "            raise Exception(\"The queue is empty\")\n",
        "        return self.last.data\n",
        "\n",
        "    def enqueue(self, data):\n",
        "        '''Push an item to the back of the queue'''\n",
        "        if self.is_empty():\n",
        "            self.head = Node(data)\n",
        "            self.last = self.head\n",
        "            self.size += 1\n",
        "        else:  \n",
        "            self.last.next = Node(data)\n",
        "            self.last = self.last.next\n",
        "            self.size += 1\n",
        "\n",
        "    def dequeue(self):\n",
        "        '''Remove an item from the front of the queue and return'''\n",
        "        if self.is_empty():\n",
        "            raise Exception(\"The queue is empty already\")\n",
        "        to_dequeue = self.head\n",
        "        self.head = self.head.next\n",
        "        self.size -= 1\n",
        "        return to_dequeue.data\n",
        "    \n",
        "    def __str__(self):\n",
        "        '''String representation of the queue'''\n",
        "        nodes = []\n",
        "        cur = self.head\n",
        "        out = \"Front: \"\n",
        "        while cur:\n",
        "            out += str(cur.data) + \"->\"\n",
        "            cur = cur.next\n",
        "        return out[:-2]\n",
        "\n",
        "\n"
      ],
      "metadata": {
        "id": "WKalrEu2XZFi"
      },
      "execution_count": null,
      "outputs": []
    },
    {
      "cell_type": "code",
      "source": [
        "que = Queue([1,2,3])\n",
        "for i in range(4, 11):\n",
        "    que.enqueue(i)\n",
        "print(que.size)\n",
        "print(f\"{que}\")\n",
        "# que = Queue()\n",
        "# #que.dequeue()\n",
        "\n",
        "# print(que)"
      ],
      "metadata": {
        "colab": {
          "base_uri": "https://localhost:8080/"
        },
        "id": "V7ydM_AIb1jV",
        "outputId": "4592e775-718a-4b41-f078-1532fac90768"
      },
      "execution_count": null,
      "outputs": [
        {
          "output_type": "stream",
          "name": "stdout",
          "text": [
            "10\n",
            "Front: 1->2->3->4->5->6->7->8->9->10\n"
          ]
        }
      ]
    },
    {
      "cell_type": "markdown",
      "source": [
        "# Simple Binary Tree\n",
        "Basic Operation On Binary Tree:\n",
        "\n",
        "Inserting an element.\n",
        "Removing an element.\n",
        "Searching for an element.\n",
        "Traversing an element. There are three types of traversals in binary tree which will be discussed ahead.\n",
        "\n",
        "PreOrder Traversal: Here, the traversal is : root – left child – right child. It means that the root node is traversed first then its left child and finally the right child.\n",
        "InOrder Traversal: Here, the traversal is : left child – root – right child.  It means that the left child is traversed first then its root node and finally the right child.\n",
        "PostOrder Traversal: Here, the traversal is : left child – right child – root.  It means that the left child is traversed first then the right child and finally its root node."
      ],
      "metadata": {
        "id": "qPnEjYxDJE1F"
      }
    },
    {
      "cell_type": "code",
      "source": [
        "class BTNode:\n",
        "    def __init__(self, data, left=None, right=None):\n",
        "        self.data = data\n",
        "        self.left = left\n",
        "        self.right = right\n",
        "\n",
        "def printTree(node, level=0):\n",
        "    if node is not None:\n",
        "        printTree(node.left, level + 1)\n",
        "        print(' ' * 4 * level + '-> ' + str(node.data))\n",
        "        printTree(node.right, level + 1)\n",
        "\n",
        "\n",
        "#the fancy way to define the tree all at once\n",
        "t = BTNode(1, BTNode(2, BTNode(4, BTNode(7), BTNode(10)), BTNode(9)), BTNode(3, BTNode(5), BTNode(6)))\n",
        "printTree(t)\n",
        "\n",
        "\n",
        "#the way where you define the root and then all the other leaves\n",
        "root = BTNode(1)\n",
        "''' following is the tree after above statement\n",
        "        1\n",
        "      /   \\\n",
        "     None  None'''\n",
        " \n",
        "root.left = BTNode(2)\n",
        "root.right = BTNode(3)\n",
        " \n",
        "''' 2 and 3 become left and right children of 1\n",
        "           1\n",
        "         /   \\\n",
        "        2      3\n",
        "     /    \\    /  \\\n",
        "   None None None None'''\n",
        " \n",
        " \n",
        "root.left.left = BTNode(4)\n",
        "'''4 becomes left child of 2\n",
        "           1\n",
        "       /       \\\n",
        "      2          3\n",
        "    /   \\       /  \\\n",
        "   4    None  None  None\n",
        "  /  \\\n",
        "None None'''\n",
        "printTree(root)\n"
      ],
      "metadata": {
        "id": "ADN9rOElch6b",
        "colab": {
          "base_uri": "https://localhost:8080/"
        },
        "outputId": "002a1916-e1a5-45e2-fb46-dbf4cbed6feb"
      },
      "execution_count": null,
      "outputs": [
        {
          "output_type": "stream",
          "name": "stdout",
          "text": [
            "            -> 7\n",
            "        -> 4\n",
            "            -> 10\n",
            "    -> 2\n",
            "        -> 9\n",
            "-> 1\n",
            "        -> 5\n",
            "    -> 3\n",
            "        -> 6\n",
            "        -> 4\n",
            "    -> 2\n",
            "-> 1\n",
            "    -> 3\n"
          ]
        }
      ]
    },
    {
      "cell_type": "code",
      "source": [
        ""
      ],
      "metadata": {
        "id": "3fNA8HpEJGIk"
      },
      "execution_count": null,
      "outputs": []
    },
    {
      "cell_type": "markdown",
      "source": [
        "# Binary Tree with Dict\n",
        "https://stackoverflow.com/questions/2598437/how-to-implement-a-binary-tree"
      ],
      "metadata": {
        "id": "wFhZqzKaWZzC"
      }
    },
    {
      "cell_type": "code",
      "source": [
        ""
      ],
      "metadata": {
        "id": "-Yue_KJbWbZ3"
      },
      "execution_count": null,
      "outputs": []
    },
    {
      "cell_type": "markdown",
      "source": [
        "# Binary Search Tree\n",
        "left <= root <= right\n",
        "\n",
        "https://stackoverflow.com/questions/34012886/print-binary-tree-level-by-level-in-python"
      ],
      "metadata": {
        "id": "Yc6fSA6nWb77"
      }
    },
    {
      "cell_type": "code",
      "source": [
        ""
      ],
      "metadata": {
        "id": "qeQiev-AWfSR"
      },
      "execution_count": null,
      "outputs": []
    }
  ]
}